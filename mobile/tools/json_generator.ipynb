{
 "cells": [
  {
   "cell_type": "code",
   "execution_count": 1,
   "metadata": {},
   "outputs": [],
   "source": [
    "import json\n",
    "import numpy as np"
   ]
  },
  {
   "cell_type": "code",
   "execution_count": 2,
   "metadata": {},
   "outputs": [],
   "source": [
    "# Define the bounds for the region using your edge coordinates\n",
    "lat_min, lon_min = 40.370678964631404, 49.55607318612783\n",
    "lat_max, lon_max = 40.61822059077524, 50.3039735741899\n",
    "\n",
    "# Specific locations with higher concentration\n",
    "locations = [\n",
    "    (40.409687, 49.941422),\n",
    "    (40.434597, 49.810456),\n",
    "    (40.495003, 49.888803),\n",
    "    (40.317291, 49.734961),  # Near Socar Plant\n",
    "    (40.597783, 49.584284),  # Near another Socar Plant\n",
    "]\n",
    "\n",
    "# Function to generate random points with normal distribution\n",
    "def generate_clustered_points(center, num_points, std_dev):\n",
    "    lat_center, lon_center = center\n",
    "    lats = np.random.normal(loc=lat_center, scale=std_dev, size=num_points)\n",
    "    lons = np.random.normal(loc=lon_center, scale=std_dev, size=num_points)\n",
    "    return np.column_stack((lats, lons))\n",
    "\n",
    "# Function to generate random points uniformly distributed in the region\n",
    "def generate_uniform_points(num_points, lat_min, lat_max, lon_min, lon_max):\n",
    "    lats = np.random.uniform(lat_min, lat_max, num_points)\n",
    "    lons = np.random.uniform(lon_min, lon_max, num_points)\n",
    "    return np.column_stack((lats, lons))\n",
    "\n",
    "# Number of points to generate\n",
    "total_points = 200\n",
    "\n",
    "# Allocate the majority of points to the clusters around your key locations\n",
    "clustered_points = []\n",
    "points_per_cluster = int(total_points * 0.15) // len(locations)  # 75% of points near key locations\n",
    "std_deviation = 0.01  # Adjust as necessary for tightness of clusters\n",
    "\n",
    "for location in locations:\n",
    "    clustered_points.append(generate_clustered_points(location, points_per_cluster, std_deviation))\n",
    "\n",
    "# Combine all clustered points\n",
    "clustered_points = np.vstack(clustered_points)\n",
    "\n",
    "# Generate the rest of the points uniformly in the region (25%)\n",
    "uniform_points = generate_uniform_points(int(total_points * 0.85), lat_min, lat_max, lon_min, lon_max)\n",
    "\n",
    "# Combine all points into one array\n",
    "all_points = np.vstack((clustered_points, uniform_points))\n",
    "\n",
    "# Convert to list of tuples for the desired format\n",
    "points = [tuple(point) for point in all_points]"
   ]
  },
  {
   "cell_type": "code",
   "execution_count": 3,
   "metadata": {},
   "outputs": [],
   "source": [
    "json.dump(points, open('../assets/points.json', 'w'))"
   ]
  }
 ],
 "metadata": {
  "kernelspec": {
   "display_name": "Python 3",
   "language": "python",
   "name": "python3"
  },
  "language_info": {
   "codemirror_mode": {
    "name": "ipython",
    "version": 3
   },
   "file_extension": ".py",
   "mimetype": "text/x-python",
   "name": "python",
   "nbconvert_exporter": "python",
   "pygments_lexer": "ipython3",
   "version": "3.10.7"
  }
 },
 "nbformat": 4,
 "nbformat_minor": 2
}
