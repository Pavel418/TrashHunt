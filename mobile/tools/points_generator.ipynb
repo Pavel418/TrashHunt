{
 "cells": [
  {
   "cell_type": "code",
   "execution_count": 1,
   "metadata": {},
   "outputs": [],
   "source": [
    "import json\n",
    "import numpy as np"
   ]
  },
  {
   "cell_type": "code",
   "execution_count": 2,
   "metadata": {},
   "outputs": [],
   "source": [
    "lat_min, lon_min = 40.241678964631404, 49.55607318612783\n",
    "lat_max, lon_max = 40.61822059077524, 50.3039735741899\n",
    "num_points = 10"
   ]
  },
  {
   "cell_type": "code",
   "execution_count": 3,
   "metadata": {},
   "outputs": [],
   "source": [
    "lat_values = np.linspace(lat_min, lat_max, num_points)\n",
    "lon_values = np.linspace(lon_min, lon_max, num_points)"
   ]
  },
  {
   "cell_type": "code",
   "execution_count": 4,
   "metadata": {},
   "outputs": [],
   "source": [
    "lat_grid, lon_grid = np.meshgrid(lat_values, lon_values)\n",
    "points = np.column_stack([lat_grid.ravel(), lon_grid.ravel()])"
   ]
  },
  {
   "cell_type": "code",
   "execution_count": 5,
   "metadata": {},
   "outputs": [],
   "source": [
    "lat_noise = np.random.uniform(-0.01, 0.01, points.shape[0])\n",
    "lon_noise = np.random.uniform(-0.01, 0.01, points.shape[0])\n",
    "\n",
    "# Apply the noise\n",
    "points[:, 0] += lat_noise\n",
    "points[:, 1] += lon_noise"
   ]
  },
  {
   "cell_type": "code",
   "execution_count": 6,
   "metadata": {},
   "outputs": [],
   "source": [
    "json.dump(points.tolist(), open('sensors.json', 'w'))"
   ]
  }
 ],
 "metadata": {
  "kernelspec": {
   "display_name": "Python 3",
   "language": "python",
   "name": "python3"
  },
  "language_info": {
   "codemirror_mode": {
    "name": "ipython",
    "version": 3
   },
   "file_extension": ".py",
   "mimetype": "text/x-python",
   "name": "python",
   "nbconvert_exporter": "python",
   "pygments_lexer": "ipython3",
   "version": "3.10.7"
  }
 },
 "nbformat": 4,
 "nbformat_minor": 2
}
